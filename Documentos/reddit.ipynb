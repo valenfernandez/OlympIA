{
  "nbformat": 4,
  "nbformat_minor": 0,
  "metadata": {
    "colab": {
      "provenance": []
    },
    "kernelspec": {
      "name": "python3",
      "display_name": "Python 3"
    },
    "language_info": {
      "name": "python"
    }
  },
  "cells": [
    {
      "cell_type": "code",
      "source": [
        "!pip install praw"
      ],
      "metadata": {
        "id": "lV8IN21ML6Py"
      },
      "execution_count": null,
      "outputs": []
    },
    {
      "cell_type": "code",
      "execution_count": null,
      "metadata": {
        "id": "g2HoFBWAL1CZ"
      },
      "outputs": [],
      "source": [
        "import praw\n",
        "\n",
        "reddit = praw.Reddit(client_id='TU_CLIENT_ID', client_secret='TU_CLIENT_SECRET', username='TU_USUARIO', password='TU_CONTRASEÑA', user_agent='TU_AGENTE_USUARIO')\n",
        "\n",
        "subreddit = reddit.subreddit(\"Argentina\")  #Aca deberiamos explorar algun subreddit relevante\n",
        "\n",
        "for submission in subreddit.new(limit=10):\n",
        "    print(submission.title) #aca muestro solo los titulos."
      ]
    },
    {
      "cell_type": "markdown",
      "source": [
        "Para obtener un client_id y client_secret de Reddit, primero necesitarás tener una cuenta de Reddit. Luego, sigue estos pasos:\n",
        "\n",
        "1. Inicia sesión en tu cuenta de Reddit.\n",
        "2. Ve a la página de preferencias de tu cuenta en https://www.reddit.com/prefs/apps.\n",
        "3. Haz clic en \"create app\" o \"crear aplicación\" en la sección de \"Developed Applications\" o \"Aplicaciones desarrolladas\".\n",
        "4. Selecciona \"web app\" o \"aplicación web\" como el tipo de aplicación.\n",
        "5. En el campo \"name\" o \"nombre\" escribe un nombre para tu aplicación, y en el campo \"redirect uri\" o \"uri de redirección\" escribe \"http://localhost:8000\" (o cualquier otro uri de redirección válido).\n",
        "6. Haz clic en \"create\" o \"crear\" para crear tu aplicación.\n",
        "7. Después de crear tu aplicación, podrás ver tu client_id y client_secret en la página de detalles de tu aplicación.\n",
        "\n",
        "Asegúrate de mantener esta información segura, ya que es necesaria para autenticar tu aplicación y acceder a los recursos de Reddit.\n",
        "\n",
        "\n",
        "\n"
      ],
      "metadata": {
        "id": "O7Or-baUMqLk"
      }
    },
    {
      "cell_type": "code",
      "source": [
        "import praw\n",
        "from praw.models import MoreComments\n",
        "\n",
        "reddit = praw.Reddit(\n",
        "    client_id='sktXf3jdMd5OLYZDYtTflg',\n",
        "    client_secret='n_hYKTudbbV_oEp_HLxuE9FqHgVWcQ',\n",
        "    user_agent='User-Agent: ubuntu:myredditscript:v0.1.0 (by /u/AffectionateNet3516)',\n",
        ")\n",
        "\n",
        "print(reddit.read_only)\n",
        "\n",
        "subreddit = reddit.subreddit(\"Argentina\")  #Aca deberiamos explorar algun subreddit relevante\n",
        "\n",
        "print(subreddit.display_name)\n",
        "print(subreddit.title)\n",
        "\n",
        "print(\"###\")\n",
        "print(\"###\")\n",
        "print(\"###\")\n",
        "\n",
        "for submission in subreddit.controversial(limit=100):\n",
        "    submission.comment_sort = \"controversial\"\n",
        "    top_level_comments = list(submission.comments)\n",
        "\n",
        "    for comment in top_level_comments:\n",
        "        if (isinstance(comment, MoreComments)):\n",
        "            break\n",
        "        print(comment.body)\n",
        "\n",
        "    print(\"\\n\")"
      ],
      "metadata": {
        "id": "OpTLwVe35tcy"
      },
      "execution_count": null,
      "outputs": []
    },
    {
      "cell_type": "markdown",
      "source": [],
      "metadata": {
        "id": "Ov1uavR9M1VS"
      }
    }
  ]
}